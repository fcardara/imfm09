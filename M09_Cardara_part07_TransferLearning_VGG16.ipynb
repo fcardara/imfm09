{
 "cells": [
  {
   "cell_type": "code",
   "execution_count": 1,
   "id": "b6c95f2a-af4f-4cbf-b345-6555093c9cfa",
   "metadata": {},
   "outputs": [
    {
     "name": "stderr",
     "output_type": "stream",
     "text": [
      "2025-05-27 20:03:12.863973: I external/local_xla/xla/tsl/cuda/cudart_stub.cc:32] Could not find cuda drivers on your machine, GPU will not be used.\n",
      "2025-05-27 20:03:13.684632: I external/local_xla/xla/tsl/cuda/cudart_stub.cc:32] Could not find cuda drivers on your machine, GPU will not be used.\n",
      "2025-05-27 20:03:14.173347: E external/local_xla/xla/stream_executor/cuda/cuda_fft.cc:467] Unable to register cuFFT factory: Attempting to register factory for plugin cuFFT when one has already been registered\n",
      "WARNING: All log messages before absl::InitializeLog() is called are written to STDERR\n",
      "E0000 00:00:1748376194.585229   53352 cuda_dnn.cc:8579] Unable to register cuDNN factory: Attempting to register factory for plugin cuDNN when one has already been registered\n",
      "E0000 00:00:1748376194.736415   53352 cuda_blas.cc:1407] Unable to register cuBLAS factory: Attempting to register factory for plugin cuBLAS when one has already been registered\n",
      "W0000 00:00:1748376195.855342   53352 computation_placer.cc:177] computation placer already registered. Please check linkage and avoid linking the same target more than once.\n",
      "W0000 00:00:1748376195.855713   53352 computation_placer.cc:177] computation placer already registered. Please check linkage and avoid linking the same target more than once.\n",
      "W0000 00:00:1748376195.855723   53352 computation_placer.cc:177] computation placer already registered. Please check linkage and avoid linking the same target more than once.\n",
      "W0000 00:00:1748376195.855728   53352 computation_placer.cc:177] computation placer already registered. Please check linkage and avoid linking the same target more than once.\n",
      "2025-05-27 20:03:15.992675: I tensorflow/core/platform/cpu_feature_guard.cc:210] This TensorFlow binary is optimized to use available CPU instructions in performance-critical operations.\n",
      "To enable the following instructions: AVX2 FMA, in other operations, rebuild TensorFlow with the appropriate compiler flags.\n"
     ]
    }
   ],
   "source": [
    "import numpy as np\n",
    "import tensorflow as tf\n",
    "from sklearn.model_selection import train_test_split\n",
    "from tensorflow.keras import layers, models\n",
    "from tensorflow.keras.applications import VGG16\n",
    "from tensorflow.keras.applications.mobilenet_v2 import preprocess_input as mobilenet_preprocess\n",
    "from tensorflow.keras.applications.vgg16 import preprocess_input as vgg_preprocess\n",
    "from tensorflow.keras.callbacks import EarlyStopping\n",
    "\n",
    "from utils.dataloader import load_data_npy, PreprocessedDataGenerator\n",
    "from utils.model_utils import save_model_and_history"
   ]
  },
  {
   "cell_type": "code",
   "execution_count": 2,
   "id": "9a7f2d8c-7969-4007-bece-45603bdb1157",
   "metadata": {},
   "outputs": [
    {
     "name": "stdout",
     "output_type": "stream",
     "text": [
      "Train: (10220, 150, 150, 3), Validation: (2555, 150, 150, 3), Test: (4259, 150, 150, 3)\n"
     ]
    }
   ],
   "source": [
    "images_train, categories_train, images_val, categories_val, images_test, categories_test = load_data_npy()\n",
    "\n",
    "# --- Generadores ---\n",
    "def preprocess_fn(x):\n",
    "    return vgg_preprocess(x)\n",
    "\n",
    "# Generadores adaptados\n",
    "train_gen = PreprocessedDataGenerator(images_train, categories_train, preprocess_fn=preprocess_fn, resize_to=(224, 224), batch_size=16)\n",
    "val_gen = PreprocessedDataGenerator(images_val, categories_val, shuffle=False, preprocess_fn=preprocess_fn, resize_to=(224, 224), batch_size=16)\n",
    "test_gen = PreprocessedDataGenerator(images_test, categories_test, shuffle=False, preprocess_fn=preprocess_fn, resize_to=(224, 224), batch_size=16)\n",
    "\n",
    "print(f\"Train: {images_train.shape}, Validation: {images_val.shape}, Test: {images_test.shape}\")"
   ]
  },
  {
   "cell_type": "code",
   "execution_count": null,
   "id": "598e13aa-da7e-4fb8-8c25-df202d88032b",
   "metadata": {},
   "outputs": [
    {
     "name": "stderr",
     "output_type": "stream",
     "text": [
      "2025-05-27 20:05:20.676298: E external/local_xla/xla/stream_executor/cuda/cuda_platform.cc:51] failed call to cuInit: INTERNAL: CUDA error: Failed call to cuInit: UNKNOWN ERROR (303)\n"
     ]
    },
    {
     "name": "stdout",
     "output_type": "stream",
     "text": [
      "Epoch 1/30\n",
      "\u001b[1m639/639\u001b[0m \u001b[32m━━━━━━━━━━━━━━━━━━━━\u001b[0m\u001b[37m\u001b[0m \u001b[1m3991s\u001b[0m 6s/step - accuracy: 0.1893 - loss: 1.9563 - val_accuracy: 0.2583 - val_loss: 1.7535\n",
      "Epoch 2/30\n",
      "\u001b[1m639/639\u001b[0m \u001b[32m━━━━━━━━━━━━━━━━━━━━\u001b[0m\u001b[37m\u001b[0m \u001b[1m4595s\u001b[0m 7s/step - accuracy: 0.2271 - loss: 1.7463 - val_accuracy: 0.3088 - val_loss: 1.6730\n",
      "Epoch 3/30\n",
      "\u001b[1m639/639\u001b[0m \u001b[32m━━━━━━━━━━━━━━━━━━━━\u001b[0m\u001b[37m\u001b[0m \u001b[1m4320s\u001b[0m 7s/step - accuracy: 0.2629 - loss: 1.6853 - val_accuracy: 0.3507 - val_loss: 1.6178\n",
      "Epoch 4/30\n",
      "\u001b[1m639/639\u001b[0m \u001b[32m━━━━━━━━━━━━━━━━━━━━\u001b[0m\u001b[37m\u001b[0m \u001b[1m4337s\u001b[0m 7s/step - accuracy: 0.2880 - loss: 1.6342 - val_accuracy: 0.3115 - val_loss: 1.5762\n",
      "Epoch 5/30\n",
      "\u001b[1m639/639\u001b[0m \u001b[32m━━━━━━━━━━━━━━━━━━━━\u001b[0m\u001b[37m\u001b[0m \u001b[1m4195s\u001b[0m 7s/step - accuracy: 0.3023 - loss: 1.6025 - val_accuracy: 0.3523 - val_loss: 1.5388\n",
      "Epoch 6/30\n",
      "\u001b[1m639/639\u001b[0m \u001b[32m━━━━━━━━━━━━━━━━━━━━\u001b[0m\u001b[37m\u001b[0m \u001b[1m3951s\u001b[0m 6s/step - accuracy: 0.3168 - loss: 1.5806 - val_accuracy: 0.3609 - val_loss: 1.5135\n",
      "Epoch 7/30\n",
      "\u001b[1m639/639\u001b[0m \u001b[32m━━━━━━━━━━━━━━━━━━━━\u001b[0m\u001b[37m\u001b[0m \u001b[1m3144s\u001b[0m 5s/step - accuracy: 0.3322 - loss: 1.5425 - val_accuracy: 0.3644 - val_loss: 1.4755\n",
      "Epoch 8/30\n",
      "\u001b[1m639/639\u001b[0m \u001b[32m━━━━━━━━━━━━━━━━━━━━\u001b[0m\u001b[37m\u001b[0m \u001b[1m2903s\u001b[0m 4s/step - accuracy: 0.3374 - loss: 1.5200 - val_accuracy: 0.3890 - val_loss: 1.4627\n",
      "Epoch 9/30\n",
      "\u001b[1m639/639\u001b[0m \u001b[32m━━━━━━━━━━━━━━━━━━━━\u001b[0m\u001b[37m\u001b[0m \u001b[1m2779s\u001b[0m 4s/step - accuracy: 0.3444 - loss: 1.5256 - val_accuracy: 0.3804 - val_loss: 1.4576\n",
      "Epoch 10/30\n",
      "\u001b[1m639/639\u001b[0m \u001b[32m━━━━━━━━━━━━━━━━━━━━\u001b[0m\u001b[37m\u001b[0m \u001b[1m2679s\u001b[0m 4s/step - accuracy: 0.3598 - loss: 1.4860 - val_accuracy: 0.3495 - val_loss: 1.4767\n",
      "Epoch 11/30\n",
      "\u001b[1m639/639\u001b[0m \u001b[32m━━━━━━━━━━━━━━━━━━━━\u001b[0m\u001b[37m\u001b[0m \u001b[1m2828s\u001b[0m 4s/step - accuracy: 0.3544 - loss: 1.4895 - val_accuracy: 0.4117 - val_loss: 1.4168\n",
      "Epoch 12/30\n",
      "\u001b[1m639/639\u001b[0m \u001b[32m━━━━━━━━━━━━━━━━━━━━\u001b[0m\u001b[37m\u001b[0m \u001b[1m2833s\u001b[0m 4s/step - accuracy: 0.3592 - loss: 1.4861 - val_accuracy: 0.3937 - val_loss: 1.4070\n",
      "Epoch 13/30\n",
      "\u001b[1m639/639\u001b[0m \u001b[32m━━━━━━━━━━━━━━━━━━━━\u001b[0m\u001b[37m\u001b[0m \u001b[1m2624s\u001b[0m 4s/step - accuracy: 0.3608 - loss: 1.4806 - val_accuracy: 0.3871 - val_loss: 1.4214\n",
      "Epoch 14/30\n",
      "\u001b[1m639/639\u001b[0m \u001b[32m━━━━━━━━━━━━━━━━━━━━\u001b[0m\u001b[37m\u001b[0m \u001b[1m2577s\u001b[0m 4s/step - accuracy: 0.3678 - loss: 1.4615 - val_accuracy: 0.4227 - val_loss: 1.3774\n",
      "Epoch 15/30\n",
      "\u001b[1m639/639\u001b[0m \u001b[32m━━━━━━━━━━━━━━━━━━━━\u001b[0m\u001b[37m\u001b[0m \u001b[1m2580s\u001b[0m 4s/step - accuracy: 0.3641 - loss: 1.4599 - val_accuracy: 0.4063 - val_loss: 1.3802\n",
      "Epoch 16/30\n",
      "\u001b[1m639/639\u001b[0m \u001b[32m━━━━━━━━━━━━━━━━━━━━\u001b[0m\u001b[37m\u001b[0m \u001b[1m2548s\u001b[0m 4s/step - accuracy: 0.3709 - loss: 1.4566 - val_accuracy: 0.3695 - val_loss: 1.4490\n",
      "Epoch 17/30\n",
      "\u001b[1m639/639\u001b[0m \u001b[32m━━━━━━━━━━━━━━━━━━━━\u001b[0m\u001b[37m\u001b[0m \u001b[1m2510s\u001b[0m 4s/step - accuracy: 0.3721 - loss: 1.4490 - val_accuracy: 0.4305 - val_loss: 1.3794\n",
      "Epoch 18/30\n",
      "\u001b[1m639/639\u001b[0m \u001b[32m━━━━━━━━━━━━━━━━━━━━\u001b[0m\u001b[37m\u001b[0m \u001b[1m0s\u001b[0m 3s/step - accuracy: 0.3612 - loss: 1.4530"
     ]
    }
   ],
   "source": [
    "# Opción 2: VGG16 (más pesado, buena extracción de características)\n",
    "base_model = VGG16(weights='imagenet', include_top=False, input_shape=(224, 224, 3))\n",
    "\n",
    "# Congelar capas convolucionales del modelo base\n",
    "base_model.trainable = False  # para feature extraction\n",
    "\n",
    "# --- Construir modelo con cabeza personalizada ---\n",
    "model = models.Sequential([\n",
    "    base_model,\n",
    "    layers.GlobalAveragePooling2D(),\n",
    "    layers.Dense(128, activation='relu'),\n",
    "    layers.Dropout(0.5),\n",
    "    layers.Dense(6, activation='softmax')\n",
    "])\n",
    "\n",
    "model.compile(optimizer='adam',\n",
    "              loss='sparse_categorical_crossentropy',\n",
    "              metrics=['accuracy'])\n",
    "\n",
    "# --- Entrenamiento ---\n",
    "early_stop = EarlyStopping(monitor='val_loss', patience=5, restore_best_weights=True)\n",
    "history = model.fit(train_gen,\n",
    "                    validation_data=val_gen,\n",
    "                    epochs=30,\n",
    "                    callbacks=[early_stop])\n",
    "\n",
    "# --- Evaluación ---\n",
    "test_loss, test_acc = model.evaluate(test_gen)\n",
    "print(f\"\\nTest Accuracy: {test_acc:.4f}   |  Test Loss: {test_loss:.4f}\")\n",
    "\n",
    "# --- Guardado ---\n",
    "save_model_and_history(model, history, model_path='transfer_model_vgg16')"
   ]
  },
  {
   "cell_type": "code",
   "execution_count": null,
   "id": "d3f15e01-c004-49f4-a265-489e41d4fa2b",
   "metadata": {},
   "outputs": [],
   "source": []
  }
 ],
 "metadata": {
  "kernelspec": {
   "display_name": "Python 3 (ipykernel)",
   "language": "python",
   "name": "python3"
  },
  "language_info": {
   "codemirror_mode": {
    "name": "ipython",
    "version": 3
   },
   "file_extension": ".py",
   "mimetype": "text/x-python",
   "name": "python",
   "nbconvert_exporter": "python",
   "pygments_lexer": "ipython3",
   "version": "3.12.7"
  }
 },
 "nbformat": 4,
 "nbformat_minor": 5
}
