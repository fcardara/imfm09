{
 "cells": [
  {
   "cell_type": "code",
   "execution_count": 4,
   "id": "b6c95f2a-af4f-4cbf-b345-6555093c9cfa",
   "metadata": {},
   "outputs": [],
   "source": [
    "import numpy as np\n",
    "import tensorflow as tf\n",
    "from sklearn.model_selection import train_test_split\n",
    "from tensorflow.keras import layers, models\n",
    "from tensorflow.keras.applications import VGG16\n",
    "from tensorflow.keras.applications.mobilenet_v2 import preprocess_input as mobilenet_preprocess\n",
    "from tensorflow.keras.applications.vgg16 import preprocess_input as vgg_preprocess\n",
    "from tensorflow.keras.callbacks import EarlyStopping\n",
    "\n",
    "from utils.dataloader import load_data_npy, PreprocessedDataGenerator\n",
    "from utils.model_utils import save_model_and_history, save_test_results"
   ]
  },
  {
   "cell_type": "code",
   "execution_count": 2,
   "id": "9a7f2d8c-7969-4007-bece-45603bdb1157",
   "metadata": {},
   "outputs": [
    {
     "name": "stdout",
     "output_type": "stream",
     "text": [
      "Train: (10220, 150, 150, 3), Validation: (2555, 150, 150, 3), Test: (4259, 150, 150, 3)\n"
     ]
    }
   ],
   "source": [
    "images_train, categories_train, images_val, categories_val, images_test, categories_test = load_data_npy()\n",
    "\n",
    "# --- Generadores ---\n",
    "def preprocess_fn(x):\n",
    "    return vgg_preprocess(x)\n",
    "\n",
    "# Generadores adaptados\n",
    "train_gen = PreprocessedDataGenerator(images_train, categories_train, preprocess_fn=preprocess_fn, resize_to=(224, 224), batch_size=16)\n",
    "val_gen = PreprocessedDataGenerator(images_val, categories_val, shuffle=False, preprocess_fn=preprocess_fn, resize_to=(224, 224), batch_size=16)\n",
    "test_gen = PreprocessedDataGenerator(images_test, categories_test, shuffle=False, preprocess_fn=preprocess_fn, resize_to=(224, 224), batch_size=16)\n",
    "\n",
    "print(f\"Train: {images_train.shape}, Validation: {images_val.shape}, Test: {images_test.shape}\")"
   ]
  },
  {
   "cell_type": "code",
   "execution_count": null,
   "id": "598e13aa-da7e-4fb8-8c25-df202d88032b",
   "metadata": {},
   "outputs": [
    {
     "name": "stdout",
     "output_type": "stream",
     "text": [
      "Epoch 1/30\n",
      "\u001b[1m639/639\u001b[0m \u001b[32m━━━━━━━━━━━━━━━━━━━━\u001b[0m\u001b[37m\u001b[0m \u001b[1m2497s\u001b[0m 4s/step - accuracy: 0.1736 - loss: 1.9277 - val_accuracy: 0.2830 - val_loss: 1.7487\n",
      "Epoch 2/30\n",
      "\u001b[1m639/639\u001b[0m \u001b[32m━━━━━━━━━━━━━━━━━━━━\u001b[0m\u001b[37m\u001b[0m \u001b[1m2415s\u001b[0m 4s/step - accuracy: 0.2324 - loss: 1.7397 - val_accuracy: 0.3100 - val_loss: 1.6644\n",
      "Epoch 3/30\n",
      "\u001b[1m639/639\u001b[0m \u001b[32m━━━━━━━━━━━━━━━━━━━━\u001b[0m\u001b[37m\u001b[0m \u001b[1m2549s\u001b[0m 4s/step - accuracy: 0.2611 - loss: 1.6702 - val_accuracy: 0.2920 - val_loss: 1.6060\n",
      "Epoch 4/30\n",
      "\u001b[1m639/639\u001b[0m \u001b[32m━━━━━━━━━━━━━━━━━━━━\u001b[0m\u001b[37m\u001b[0m \u001b[1m2481s\u001b[0m 4s/step - accuracy: 0.2841 - loss: 1.6214 - val_accuracy: 0.3241 - val_loss: 1.5631\n",
      "Epoch 5/30\n",
      "\u001b[1m639/639\u001b[0m \u001b[32m━━━━━━━━━━━━━━━━━━━━\u001b[0m\u001b[37m\u001b[0m \u001b[1m2492s\u001b[0m 4s/step - accuracy: 0.2969 - loss: 1.5847 - val_accuracy: 0.3225 - val_loss: 1.5511\n",
      "Epoch 6/30\n",
      "\u001b[1m639/639\u001b[0m \u001b[32m━━━━━━━━━━━━━━━━━━━━\u001b[0m\u001b[37m\u001b[0m \u001b[1m2442s\u001b[0m 4s/step - accuracy: 0.3007 - loss: 1.5852 - val_accuracy: 0.3389 - val_loss: 1.5244\n",
      "Epoch 7/30\n",
      "\u001b[1m639/639\u001b[0m \u001b[32m━━━━━━━━━━━━━━━━━━━━\u001b[0m\u001b[37m\u001b[0m \u001b[1m2481s\u001b[0m 4s/step - accuracy: 0.3207 - loss: 1.5514 - val_accuracy: 0.3256 - val_loss: 1.5296\n",
      "Epoch 8/30\n",
      "\u001b[1m294/639\u001b[0m \u001b[32m━━━━━━━━━\u001b[0m\u001b[37m━━━━━━━━━━━\u001b[0m \u001b[1m17:58\u001b[0m 3s/step - accuracy: 0.3321 - loss: 1.5540"
     ]
    }
   ],
   "source": [
    "# Opción 2: VGG16 (más pesado, buena extracción de características)\n",
    "base_model = VGG16(weights='imagenet', include_top=False, input_shape=(224, 224, 3))\n",
    "\n",
    "# Congelar capas convolucionales del modelo base\n",
    "base_model.trainable = False  # para feature extraction\n",
    "\n",
    "# --- Construir modelo con cabeza personalizada ---\n",
    "model = models.Sequential([\n",
    "    base_model,\n",
    "    layers.GlobalAveragePooling2D(),\n",
    "    layers.Dense(128, activation='relu'),\n",
    "    layers.Dropout(0.5),\n",
    "    layers.Dense(6, activation='softmax')\n",
    "])\n",
    "\n",
    "model.compile(optimizer='adam',\n",
    "              loss='sparse_categorical_crossentropy',\n",
    "              metrics=['accuracy'])\n",
    "\n",
    "# --- Entrenamiento ---\n",
    "early_stop = EarlyStopping(monitor='val_loss', patience=5, restore_best_weights=True)\n",
    "history = model.fit(train_gen,\n",
    "                    validation_data=val_gen,\n",
    "                    epochs=30,\n",
    "                    callbacks=[early_stop])\n",
    "\n",
    "# --- Evaluación ---\n",
    "test_loss, test_acc = model.evaluate(test_gen)\n",
    "print(f\"\\nTest Accuracy: {test_acc:.4f}   |  Test Loss: {test_loss:.4f}\")\n",
    "\n",
    "# --- Guardado ---\n",
    "save_model_and_history(model, history, model_path='transfer_model_vgg16')\n",
    "save_test_results('transfer_model_vgg16', test_loss, test_acc)"
   ]
  },
  {
   "cell_type": "code",
   "execution_count": null,
   "id": "d3f15e01-c004-49f4-a265-489e41d4fa2b",
   "metadata": {},
   "outputs": [],
   "source": []
  }
 ],
 "metadata": {
  "kernelspec": {
   "display_name": "Python 3 (ipykernel)",
   "language": "python",
   "name": "python3"
  },
  "language_info": {
   "codemirror_mode": {
    "name": "ipython",
    "version": 3
   },
   "file_extension": ".py",
   "mimetype": "text/x-python",
   "name": "python",
   "nbconvert_exporter": "python",
   "pygments_lexer": "ipython3",
   "version": "3.12.7"
  }
 },
 "nbformat": 4,
 "nbformat_minor": 5
}
