{
 "cells": [
  {
   "cell_type": "markdown",
   "id": "d924070e-cb37-4b91-b24f-f7e29dc97969",
   "metadata": {},
   "source": [
    "## Preparación de los datos\n",
    "\n",
    "A continuación, se preparan los datos que se utilizarán en los siguientes notebooks de esta práctica. El archivo ZIP que contiene las imágenes se descarga directamente desde la página de Kaggle.\n",
    "\n",
    "Las imágenes incluidas en las carpetas `seg_train` y `seg_test` se descomprimen en la carpeta `data`, cada una en una subcarpeta correspondiente a su categoría.\n",
    "\n",
    "Después, se crean dos arrays:\n",
    "- El primero contiene las imágenes en formato RGB, redimensionadas a 150x150 píxeles (aunque en principio ya deberían tener ese tamaño) y normalizadas.\n",
    "- El segundo array asocia a cada imagen una etiqueta numérica correspondiente a su categoría, con valores entre 0 y 5.\n",
    "\n",
    "Finalmente, ambos arrays se guardan en archivos dentro de la carpeta principal de la práctica, para ser utilizados en los notebooks donde se crearán los modelos.\n"
   ]
  },
  {
   "cell_type": "code",
   "execution_count": 2,
   "id": "e8af860a-741c-4da0-981e-a03133da1b25",
   "metadata": {},
   "outputs": [],
   "source": [
    "try:\n",
    "    import cv2\n",
    "except ImportError:\n",
    "    import sys\n",
    "    !{sys.executable} -m pip install opencv-python-headless\n",
    "    import cv2\n",
    "\n",
    "import os\n",
    "import zipfile\n",
    "import requests\n",
    "from tqdm import tqdm\n",
    "from pathlib import Path\n",
    "import shutil\n",
    "import warnings\n",
    "import numpy as np"
   ]
  },
  {
   "cell_type": "code",
   "execution_count": 3,
   "id": "7bcb5d13-7da6-4b25-a1f3-9f0ad06b4e0a",
   "metadata": {},
   "outputs": [],
   "source": [
    "url = \"https://www.kaggle.com/api/v1/datasets/download/puneet6060/intel-image-classification\"\n",
    "zip_path = \"data.zip\"\n",
    "extract_dir = \"data\""
   ]
  },
  {
   "cell_type": "code",
   "execution_count": 4,
   "id": "c578af9d-84c9-453b-8266-8fd98520a1cc",
   "metadata": {},
   "outputs": [
    {
     "name": "stdout",
     "output_type": "stream",
     "text": [
      "Archivo ya descargado.\n"
     ]
    }
   ],
   "source": [
    "# Descargar el archivo zip con barra de progreso\n",
    "def download_zip(url, output_path):\n",
    "    response = requests.get(url, stream=True)\n",
    "    total = int(response.headers.get('content-length', 0))\n",
    "    with open(output_path, 'wb') as file, tqdm(\n",
    "        desc=output_path,\n",
    "        total=total,\n",
    "        unit='iB',\n",
    "        unit_scale=True,\n",
    "        unit_divisor=1024,\n",
    "    ) as bar:\n",
    "        for data in response.iter_content(chunk_size=1024):\n",
    "            size = file.write(data)\n",
    "            bar.update(size)\n",
    "\n",
    "# Solo descargar si no existe\n",
    "if not Path(zip_path).exists():\n",
    "    print(\"Descargando archivo...\")\n",
    "    download_zip(url, zip_path)\n",
    "else:\n",
    "    print(\"Archivo ya descargado.\")\n",
    "\n",
    "# Crear carpeta de destino si no existe\n",
    "os.makedirs(extract_dir, exist_ok=True)"
   ]
  },
  {
   "cell_type": "code",
   "execution_count": 7,
   "id": "0d2943ed-34a1-4185-95f5-548bbe8d3907",
   "metadata": {},
   "outputs": [
    {
     "name": "stdout",
     "output_type": "stream",
     "text": [
      "Extracción completada. Directorio con las imagenes: /opt/notebooks/M9/data\n"
     ]
    }
   ],
   "source": [
    "def extract_and_flatten(zip_path, target_folder):\n",
    "    with zipfile.ZipFile(zip_path, 'r') as z:\n",
    "        for member in z.infolist():\n",
    "            # Procesamos solo seg_train y seg_test\n",
    "            if (\"seg_train/seg_train\" in member.filename or \"seg_test/seg_test\" in member.filename) and member.filename.endswith('.jpg'):\n",
    "                parts = Path(member.filename).parts\n",
    "                if 'seg_train' in parts:\n",
    "                    label = parts[2]\n",
    "                    filename = parts[3]\n",
    "                elif 'seg_test' in parts:\n",
    "                    label = parts[2]\n",
    "                    filename = parts[3]\n",
    "                else:\n",
    "                    continue\n",
    "\n",
    "                # Convertimos a Path todo\n",
    "                dest_dir = Path(target_folder) / label.lower()\n",
    "                dest_dir.mkdir(parents=True, exist_ok=True)\n",
    "                dest_path = dest_dir / filename\n",
    "\n",
    "                # Comprobamos si existe antes de escribir\n",
    "                if dest_path.exists():\n",
    "                    warnings.warn(f\"Overwriting file: {dest_path}\")\n",
    "\n",
    "                # Copiamos el archivo\n",
    "                with z.open(member) as source, open(dest_path, \"wb\") as target:\n",
    "                    shutil.copyfileobj(source, target)\n",
    "\n",
    "# Ejecutar extracción\n",
    "extract_and_flatten(zip_path, extract_dir)\n",
    "\n",
    "print(\"Extracción completada. Directorio con las imagenes:\", Path(extract_dir).resolve())"
   ]
  },
  {
   "cell_type": "code",
   "execution_count": 22,
   "id": "2b7a5602-2c16-4348-906a-3de67089f713",
   "metadata": {},
   "outputs": [
    {
     "name": "stdout",
     "output_type": "stream",
     "text": [
      "Clases encontradas: {'buildings': 0, 'forest': 1, 'glacier': 2, 'mountain': 3, 'sea': 4, 'street': 5}\n"
     ]
    },
    {
     "name": "stderr",
     "output_type": "stream",
     "text": [
      "Cargando buildings: 100% 2628/2628 [00:06<00:00, 423.75it/s]\n",
      "Cargando forest: 100% 2745/2745 [00:06<00:00, 434.17it/s]\n",
      "Cargando glacier: 100% 2957/2957 [00:06<00:00, 425.88it/s]\n",
      "Cargando mountain: 100% 3037/3037 [00:06<00:00, 502.09it/s]\n",
      "Cargando sea: 100% 2784/2784 [00:05<00:00, 479.86it/s]\n",
      "Cargando street: 100% 2883/2883 [00:05<00:00, 532.41it/s]\n"
     ]
    },
    {
     "name": "stdout",
     "output_type": "stream",
     "text": [
      "Forma de images: (17034, 150, 150, 3)\n",
      "Forma de categories: (17034,)\n",
      "Guardado en images.npy y categories.npy\n"
     ]
    }
   ],
   "source": [
    "# Carpeta donde están las subcarpetas (buildings, forest, etc.)\n",
    "data_dir = Path(extract_dir)\n",
    "img_height, img_width = 150, 150\n",
    "\n",
    "# Identificar las clases y asignarles un índice\n",
    "classes = sorted([d.name for d in data_dir.iterdir() if d.is_dir()])\n",
    "class_indices = {cls_name: idx for idx, cls_name in enumerate(classes)}\n",
    "print(\"Clases encontradas:\", class_indices)\n",
    "\n",
    "# Listas para almacenar los datos\n",
    "images = []\n",
    "categories = []\n",
    "\n",
    "# Procesar cada imagen\n",
    "for cls_name in classes:\n",
    "    cls_folder = data_dir / cls_name\n",
    "    label = class_indices[cls_name]\n",
    "    \n",
    "    for img_path in tqdm(list(cls_folder.glob(\"*.jpg\")), desc=f\"Cargando {cls_name}\"):\n",
    "        img = cv2.imread(str(img_path))\n",
    "        if img is None:\n",
    "            continue\n",
    "        img = cv2.cvtColor(img, cv2.COLOR_BGR2RGB)\n",
    "        img = cv2.resize(img, (img_width, img_height))\n",
    "        img = img.astype('float32') / 255.0\n",
    "\n",
    "        images.append(img)\n",
    "        categories.append(label)\n",
    "\n",
    "# Convertir a NumPy arrays\n",
    "images = np.array(images, dtype=np.float32)\n",
    "categories = np.array(categories, dtype=np.int32)\n",
    "\n",
    "# Mostrar formas\n",
    "print(\"Forma de images:\", images.shape)\n",
    "print(\"Forma de categories:\", categories.shape)\n",
    "\n",
    "# Guardar\n",
    "np.save(\"images.npy\", images)\n",
    "np.save(\"categories.npy\", categories)\n",
    "print(\"Guardado en images.npy y categories.npy\")"
   ]
  },
  {
   "cell_type": "code",
   "execution_count": null,
   "id": "68885b16-fcff-44de-a8d2-7a3c9f3abb7e",
   "metadata": {},
   "outputs": [],
   "source": []
  }
 ],
 "metadata": {
  "kernelspec": {
   "display_name": "Python 3 (ipykernel)",
   "language": "python",
   "name": "python3"
  },
  "language_info": {
   "codemirror_mode": {
    "name": "ipython",
    "version": 3
   },
   "file_extension": ".py",
   "mimetype": "text/x-python",
   "name": "python",
   "nbconvert_exporter": "python",
   "pygments_lexer": "ipython3",
   "version": "3.12.7"
  }
 },
 "nbformat": 4,
 "nbformat_minor": 5
}
