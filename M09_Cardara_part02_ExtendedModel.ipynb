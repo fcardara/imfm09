{
 "cells": [
  {
   "cell_type": "markdown",
   "id": "93a6f41e-9a88-48dc-8863-ead977037adb",
   "metadata": {},
   "source": [
    "## Paso 2 – Modelo CNN Aumentado\n",
    "\n",
    "En este apartado se construye un **modelo convolucional más complejo** que parte de la arquitectura base definida en el paso anterior, añadiendo varias capas para mejorar su capacidad de aprendizaje y generalización.\n",
    "\n",
    "### Características del modelo:\n",
    "\n",
    "- Se han añadido **tres bloques convolucionales**, cada uno compuesto por:\n",
    "  - Una capa `Conv2D` con filtros crecientes (32 → 64 → 128).\n",
    "  - Una capa `BatchNormalization` para estabilizar y acelerar el entrenamiento.\n",
    "  - Una capa `MaxPooling2D` para reducir dimensionalidad y controlar el sobreajuste.\n",
    "  \n",
    "- Después del bloque convolucional, se utiliza:\n",
    "  - Una capa `Flatten` para convertir las características 2D en un vector 1D.\n",
    "  - Una capa `Dense` con 128 neuronas y activación `ReLU` como capa oculta densa.\n",
    "  - Una capa `Dropout` del 50% para regularizar y evitar sobreajuste.\n",
    "  - Una capa de salida `Dense(6)` con activación `softmax`, adaptada a la clasificación multiclase."
   ]
  },
  {
   "cell_type": "code",
   "execution_count": 1,
   "id": "2bcf3649-9ba4-432d-bb6b-3fd378451e7d",
   "metadata": {},
   "outputs": [
    {
     "name": "stderr",
     "output_type": "stream",
     "text": [
      "2025-05-27 14:10:05.460600: I external/local_xla/xla/tsl/cuda/cudart_stub.cc:32] Could not find cuda drivers on your machine, GPU will not be used.\n",
      "2025-05-27 14:10:05.871310: I external/local_xla/xla/tsl/cuda/cudart_stub.cc:32] Could not find cuda drivers on your machine, GPU will not be used.\n",
      "2025-05-27 14:10:06.329036: E external/local_xla/xla/stream_executor/cuda/cuda_fft.cc:467] Unable to register cuFFT factory: Attempting to register factory for plugin cuFFT when one has already been registered\n",
      "WARNING: All log messages before absl::InitializeLog() is called are written to STDERR\n",
      "E0000 00:00:1748355006.662735   49465 cuda_dnn.cc:8579] Unable to register cuDNN factory: Attempting to register factory for plugin cuDNN when one has already been registered\n",
      "E0000 00:00:1748355006.761009   49465 cuda_blas.cc:1407] Unable to register cuBLAS factory: Attempting to register factory for plugin cuBLAS when one has already been registered\n",
      "W0000 00:00:1748355008.196940   49465 computation_placer.cc:177] computation placer already registered. Please check linkage and avoid linking the same target more than once.\n",
      "W0000 00:00:1748355008.197264   49465 computation_placer.cc:177] computation placer already registered. Please check linkage and avoid linking the same target more than once.\n",
      "W0000 00:00:1748355008.197276   49465 computation_placer.cc:177] computation placer already registered. Please check linkage and avoid linking the same target more than once.\n",
      "W0000 00:00:1748355008.197281   49465 computation_placer.cc:177] computation placer already registered. Please check linkage and avoid linking the same target more than once.\n",
      "2025-05-27 14:10:08.365662: I tensorflow/core/platform/cpu_feature_guard.cc:210] This TensorFlow binary is optimized to use available CPU instructions in performance-critical operations.\n",
      "To enable the following instructions: AVX2 FMA, in other operations, rebuild TensorFlow with the appropriate compiler flags.\n"
     ]
    }
   ],
   "source": [
    "import numpy as np\n",
    "import tensorflow as tf\n",
    "from sklearn.model_selection import train_test_split\n",
    "from tensorflow.keras import layers, models\n",
    "from tensorflow.keras.callbacks import EarlyStopping\n",
    "from utils.dataloader import load_data_npy, DataGenerator\n",
    "from utils.model_utils import save_model_and_history"
   ]
  },
  {
   "cell_type": "code",
   "execution_count": 2,
   "id": "226afbe0-56e4-4a25-83d5-5cb766b52c97",
   "metadata": {},
   "outputs": [
    {
     "name": "stdout",
     "output_type": "stream",
     "text": [
      "Train: (10220, 150, 150, 3), Validation: (2555, 150, 150, 3), Test: (4259, 150, 150, 3)\n"
     ]
    }
   ],
   "source": [
    "# Cargar los datos\n",
    "images_train, categories_train, images_val, categories_val, images_test, categories_test = load_data_npy()\n",
    "\n",
    "# Crear generadores\n",
    "train_gen = DataGenerator(images_train, categories_train)\n",
    "val_gen = DataGenerator(images_val, categories_val, shuffle=False)\n",
    "test_gen = DataGenerator(images_test, categories_test, shuffle=False)\n",
    "\n",
    "print(f\"Train: {images_train.shape}, Validation: {images_val.shape}, Test: {images_test.shape}\")"
   ]
  },
  {
   "cell_type": "code",
   "execution_count": 3,
   "id": "1626ec6c-fd13-45a9-97cb-aeb298cd51a9",
   "metadata": {},
   "outputs": [
    {
     "name": "stderr",
     "output_type": "stream",
     "text": [
      "2025-05-27 14:15:53.932633: E external/local_xla/xla/stream_executor/cuda/cuda_platform.cc:51] failed call to cuInit: INTERNAL: CUDA error: Failed call to cuInit: UNKNOWN ERROR (303)\n"
     ]
    },
    {
     "name": "stdout",
     "output_type": "stream",
     "text": [
      "Epoch 1/30\n",
      "\u001b[1m320/320\u001b[0m \u001b[32m━━━━━━━━━━━━━━━━━━━━\u001b[0m\u001b[37m\u001b[0m \u001b[1m486s\u001b[0m 1s/step - accuracy: 0.4251 - loss: 4.2237 - val_accuracy: 0.3014 - val_loss: 2.5081\n",
      "Epoch 2/30\n",
      "\u001b[1m320/320\u001b[0m \u001b[32m━━━━━━━━━━━━━━━━━━━━\u001b[0m\u001b[37m\u001b[0m \u001b[1m524s\u001b[0m 2s/step - accuracy: 0.5099 - loss: 1.2531 - val_accuracy: 0.3675 - val_loss: 1.4076\n",
      "Epoch 3/30\n",
      "\u001b[1m320/320\u001b[0m \u001b[32m━━━━━━━━━━━━━━━━━━━━\u001b[0m\u001b[37m\u001b[0m \u001b[1m511s\u001b[0m 2s/step - accuracy: 0.5544 - loss: 1.1240 - val_accuracy: 0.6544 - val_loss: 1.4072\n",
      "Epoch 4/30\n",
      "\u001b[1m320/320\u001b[0m \u001b[32m━━━━━━━━━━━━━━━━━━━━\u001b[0m\u001b[37m\u001b[0m \u001b[1m476s\u001b[0m 1s/step - accuracy: 0.6096 - loss: 1.0374 - val_accuracy: 0.6932 - val_loss: 1.0169\n",
      "Epoch 5/30\n",
      "\u001b[1m320/320\u001b[0m \u001b[32m━━━━━━━━━━━━━━━━━━━━\u001b[0m\u001b[37m\u001b[0m \u001b[1m469s\u001b[0m 1s/step - accuracy: 0.6392 - loss: 0.9284 - val_accuracy: 0.7018 - val_loss: 0.8148\n",
      "Epoch 6/30\n",
      "\u001b[1m320/320\u001b[0m \u001b[32m━━━━━━━━━━━━━━━━━━━━\u001b[0m\u001b[37m\u001b[0m \u001b[1m437s\u001b[0m 1s/step - accuracy: 0.6668 - loss: 0.8722 - val_accuracy: 0.5123 - val_loss: 1.6312\n",
      "Epoch 7/30\n",
      "\u001b[1m320/320\u001b[0m \u001b[32m━━━━━━━━━━━━━━━━━━━━\u001b[0m\u001b[37m\u001b[0m \u001b[1m414s\u001b[0m 1s/step - accuracy: 0.6771 - loss: 0.8441 - val_accuracy: 0.7260 - val_loss: 0.7615\n",
      "Epoch 8/30\n",
      "\u001b[1m320/320\u001b[0m \u001b[32m━━━━━━━━━━━━━━━━━━━━\u001b[0m\u001b[37m\u001b[0m \u001b[1m434s\u001b[0m 1s/step - accuracy: 0.7072 - loss: 0.7316 - val_accuracy: 0.7840 - val_loss: 0.6653\n",
      "Epoch 9/30\n",
      "\u001b[1m320/320\u001b[0m \u001b[32m━━━━━━━━━━━━━━━━━━━━\u001b[0m\u001b[37m\u001b[0m \u001b[1m496s\u001b[0m 2s/step - accuracy: 0.7135 - loss: 0.7171 - val_accuracy: 0.8168 - val_loss: 0.5750\n",
      "Epoch 10/30\n",
      "\u001b[1m320/320\u001b[0m \u001b[32m━━━━━━━━━━━━━━━━━━━━\u001b[0m\u001b[37m\u001b[0m \u001b[1m451s\u001b[0m 1s/step - accuracy: 0.7387 - loss: 0.6357 - val_accuracy: 0.6254 - val_loss: 1.6840\n",
      "Epoch 11/30\n",
      "\u001b[1m320/320\u001b[0m \u001b[32m━━━━━━━━━━━━━━━━━━━━\u001b[0m\u001b[37m\u001b[0m \u001b[1m413s\u001b[0m 1s/step - accuracy: 0.7598 - loss: 0.5904 - val_accuracy: 0.7037 - val_loss: 0.7978\n",
      "Epoch 12/30\n",
      "\u001b[1m320/320\u001b[0m \u001b[32m━━━━━━━━━━━━━━━━━━━━\u001b[0m\u001b[37m\u001b[0m \u001b[1m424s\u001b[0m 1s/step - accuracy: 0.7519 - loss: 0.6159 - val_accuracy: 0.7530 - val_loss: 0.9035\n",
      "Epoch 13/30\n",
      "\u001b[1m320/320\u001b[0m \u001b[32m━━━━━━━━━━━━━━━━━━━━\u001b[0m\u001b[37m\u001b[0m \u001b[1m387s\u001b[0m 1s/step - accuracy: 0.7563 - loss: 0.5894 - val_accuracy: 0.7597 - val_loss: 0.7880\n",
      "Epoch 14/30\n",
      "\u001b[1m320/320\u001b[0m \u001b[32m━━━━━━━━━━━━━━━━━━━━\u001b[0m\u001b[37m\u001b[0m \u001b[1m437s\u001b[0m 1s/step - accuracy: 0.7540 - loss: 0.5658 - val_accuracy: 0.8110 - val_loss: 0.6813\n",
      "\u001b[1m134/134\u001b[0m \u001b[32m━━━━━━━━━━━━━━━━━━━━\u001b[0m\u001b[37m\u001b[0m \u001b[1m33s\u001b[0m 242ms/step - accuracy: 0.8147 - loss: 0.5538\n"
     ]
    },
    {
     "name": "stderr",
     "output_type": "stream",
     "text": [
      "WARNING:absl:You are saving your model as an HDF5 file via `model.save()` or `keras.saving.save_model(model)`. This file format is considered legacy. We recommend using instead the native Keras format, e.g. `model.save('my_model.keras')` or `keras.saving.save_model(model, 'my_model.keras')`. \n"
     ]
    },
    {
     "name": "stdout",
     "output_type": "stream",
     "text": [
      "\n",
      "Test Accuracy: 0.8140  |  Test Loss: 0.5570\n",
      "Modelo guardado en: /opt/notebooks/M9/models/model_extended_cnn.h5\n",
      "Historial guardado en: /opt/notebooks/M9/models/model_extended_cnn_history.json\n"
     ]
    }
   ],
   "source": [
    "# Modelo CNN extendido\n",
    "model = models.Sequential([\n",
    "    layers.Input(shape=(150, 150, 3)),\n",
    "    layers.Conv2D(32, (3, 3), activation='relu'),\n",
    "    layers.BatchNormalization(),\n",
    "    layers.MaxPooling2D(pool_size=(2, 2)),\n",
    "\n",
    "    layers.Conv2D(64, (3, 3), activation='relu'),\n",
    "    layers.BatchNormalization(),\n",
    "    layers.MaxPooling2D(pool_size=(2, 2)),\n",
    "\n",
    "    layers.Conv2D(128, (3, 3), activation='relu'),\n",
    "    layers.BatchNormalization(),\n",
    "    layers.MaxPooling2D(pool_size=(2, 2)),\n",
    "\n",
    "    layers.Flatten(),\n",
    "    layers.Dense(128, activation='relu'),\n",
    "    layers.Dropout(0.5),\n",
    "    layers.Dense(6, activation='softmax')\n",
    "])\n",
    "\n",
    "model.compile(optimizer='adam',\n",
    "              loss='sparse_categorical_crossentropy',\n",
    "              metrics=['accuracy'])\n",
    "\n",
    "# Entrenamiento\n",
    "early_stop = EarlyStopping(monitor='val_loss', patience=5, restore_best_weights=True)\n",
    "\n",
    "history = model.fit(train_gen,\n",
    "                    validation_data=val_gen,\n",
    "                    epochs=30,\n",
    "                    callbacks=[early_stop])\n",
    "\n",
    "# Evaluación final\n",
    "test_loss, test_acc = model.evaluate(test_gen)\n",
    "print(f\"\\nTest Accuracy: {test_acc:.4f}  |  Test Loss: {test_loss:.4f}\")\n",
    "\n",
    "# Guardado\n",
    "save_model_and_history(\n",
    "    model,\n",
    "    history,\n",
    "    model_path='model_extended_cnn'\n",
    ")"
   ]
  },
  {
   "cell_type": "code",
   "execution_count": null,
   "id": "eb73d6bb-0c7f-4517-943b-1f221e3c036c",
   "metadata": {},
   "outputs": [],
   "source": []
  }
 ],
 "metadata": {
  "kernelspec": {
   "display_name": "Python 3 (ipykernel)",
   "language": "python",
   "name": "python3"
  },
  "language_info": {
   "codemirror_mode": {
    "name": "ipython",
    "version": 3
   },
   "file_extension": ".py",
   "mimetype": "text/x-python",
   "name": "python",
   "nbconvert_exporter": "python",
   "pygments_lexer": "ipython3",
   "version": "3.12.7"
  }
 },
 "nbformat": 4,
 "nbformat_minor": 5
}
