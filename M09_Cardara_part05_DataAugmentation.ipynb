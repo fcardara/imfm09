{
 "cells": [
  {
   "cell_type": "markdown",
   "id": "188c4f7f-aac6-4c79-8ecd-6022948baca4",
   "metadata": {},
   "source": [
    "## Paso 5 - Entrenamiento con Aumento de Datos\n",
    "\n",
    "En este notebook se desarrolla el punto 5 del caso práctico:\n",
    "\n",
    "**\"Modelo basado en aumento de datos sobre cualquiera de los cuatro modelos implementados anteriormente\"**\n",
    "\n",
    "Este notebook implementa el paso 5 de la práctica final, consistente en aplicar **aumento de datos (data augmentation)** sobre el modelo con mejor rendimiento anterior (en este caso, `transfer_model`), con el objetivo de mejorar su capacidad de generalización.\n",
    "\n",
    "### Aumento de datos con `ImageDataGenerator`\n",
    "\n",
    "Se aplican múltiples transformaciones en tiempo real durante el entrenamiento:\n",
    "\n",
    "- `rotation_range=30` → rotaciones aleatorias\n",
    "- `width_shift_range=0.1`, `height_shift_range=0.1` → desplazamientos horizontales/verticales\n",
    "- `shear_range=0.2` → deformaciones angulares\n",
    "- `zoom_range=0.2` → zoom aleatorio\n",
    "- `horizontal_flip=True` → inversión horizontal\n",
    "- `fill_mode='nearest'` → relleno de píxeles\n",
    "\n",
    "### Reentrenamiento\n",
    "\n",
    "- El modelo se recompila antes de entrenarlo con datos aumentados.\n",
    "- Se utiliza `EarlyStopping` para evitar el sobreentrenamiento.\n",
    "\n",
    "\n",
    "\n",
    "\n",
    "\n"
   ]
  },
  {
   "cell_type": "code",
   "execution_count": null,
   "id": "9b371881-f831-40ca-b4ec-032c20bfc990",
   "metadata": {},
   "outputs": [],
   "source": [
    "import numpy as np\n",
    "import tensorflow as tf\n",
    "from sklearn.model_selection import train_test_split\n",
    "from tensorflow.keras.preprocessing.image import ImageDataGenerator\n",
    "from tensorflow.keras.callbacks import EarlyStopping\n",
    "from tensorflow.keras.models import load_model\n",
    "\n",
    "from utils.dataloader import load_data_npy, DataGenerator\n",
    "from utils.model_utils import save_model_and_history, save_test_results"
   ]
  },
  {
   "cell_type": "code",
   "execution_count": null,
   "id": "5fcbb0a3-837c-4043-bb0b-3a89a1415643",
   "metadata": {},
   "outputs": [],
   "source": [
    "images_train, categories_train, images_val, categories_val, images_test, categories_test = load_data_npy(resize_to(224, 224))"
   ]
  },
  {
   "cell_type": "code",
   "execution_count": null,
   "id": "3719d7a6-8e3d-4491-8f99-55c297a6fe5c",
   "metadata": {},
   "outputs": [],
   "source": [
    "# --- Aumento de datos con ImageDataGenerator ---\n",
    "datagen = ImageDataGenerator(\n",
    "    rotation_range=30,\n",
    "    width_shift_range=0.1,\n",
    "    height_shift_range=0.1,\n",
    "    shear_range=0.2,\n",
    "    zoom_range=0.2,\n",
    "    horizontal_flip=True,\n",
    "    fill_mode='nearest'\n",
    ")\n",
    "\n",
    "valgen = ImageDataGenerator()\n",
    "testgen = ImageDataGenerator()\n",
    "\n",
    "train_aug = datagen.flow(images_train, categories_train, batch_size=32)\n",
    "val_aug = valgen.flow(images_val, categories_val, batch_size=32)\n",
    "test_aug = testgen.flow(images_test, categories_test, batch_size=32, shuffle=False)\n",
    "\n",
    "# --- Cargar mejor modelo anterior ---\n",
    "model, _ = load_model_and_history(\"transfer_model\")\n",
    "\n",
    "# --- Compilar de nuevo ---\n",
    "model.compile(optimizer='adam', loss='sparse_categorical_crossentropy', metrics=['accuracy'])\n",
    "\n",
    "# --- Entrenar con datos aumentados ---\n",
    "early_stop = EarlyStopping(monitor='val_loss', patience=5, restore_best_weights=True)\n",
    "history = model.fit(\n",
    "    train_aug,\n",
    "    validation_data=val_aug,\n",
    "    epochs=30,\n",
    "    callbacks=[early_stop]\n",
    ")\n",
    "\n",
    "# --- Evaluar en test ---\n",
    "test_loss, test_acc = model.evaluate(test_aug)\n",
    "print(f\"\\nTest accuracy con aumento de datos: {test_acc:.4f}   |  Test Loss: {test_loss:.4f}\")\n",
    "\n",
    "# --- Guardar nuevo modelo ---\n",
    "save_model_and_history(model, history, model_path='transfer_model_augmented')\n",
    "save_test_results('model_extended_cnn', test_loss, test_acc)"
   ]
  }
 ],
 "metadata": {
  "kernelspec": {
   "display_name": "Python 3 (ipykernel)",
   "language": "python",
   "name": "python3"
  },
  "language_info": {
   "codemirror_mode": {
    "name": "ipython",
    "version": 3
   },
   "file_extension": ".py",
   "mimetype": "text/x-python",
   "name": "python",
   "nbconvert_exporter": "python",
   "pygments_lexer": "ipython3",
   "version": "3.12.7"
  }
 },
 "nbformat": 4,
 "nbformat_minor": 5
}
