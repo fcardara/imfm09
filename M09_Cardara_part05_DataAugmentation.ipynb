{
 "cells": [
  {
   "cell_type": "code",
   "execution_count": null,
   "id": "9b371881-f831-40ca-b4ec-032c20bfc990",
   "metadata": {},
   "outputs": [],
   "source": [
    "# 5_data_augmentation.ipynb\n",
    "# Entrenamiento con aumento de datos usando el mejor modelo anterior (transfer_model)\n",
    "\n",
    "import numpy as np\n",
    "import tensorflow as tf\n",
    "from sklearn.model_selection import train_test_split\n",
    "from tensorflow.keras.preprocessing.image import ImageDataGenerator\n",
    "from tensorflow.keras.callbacks import EarlyStopping\n",
    "from tensorflow.keras.models import load_model\n",
    "\n",
    "from utils.dataloader import load_data_npy, DataGenerator\n",
    "from utils.model_utils import save_model_and_history"
   ]
  },
  {
   "cell_type": "code",
   "execution_count": null,
   "id": "5db4d7e4-658e-4333-a198-02b94b3ed8de",
   "metadata": {},
   "outputs": [],
   "source": [
    "# --- Configuración: activar resize si el modelo lo requiere ---\n",
    "\n",
    "# --- Carga de datos desde .npy ---\n",
    "images_train, categories_train, images_val, categories_val, images_test, categories_test = load_data_npy(resize_to(224, 224))\n",
    "\n",
    "\n",
    "# --- Aumento de datos con ImageDataGenerator ---\n",
    "datagen = ImageDataGenerator(\n",
    "    rotation_range=30,\n",
    "    width_shift_range=0.1,\n",
    "    height_shift_range=0.1,\n",
    "    shear_range=0.2,\n",
    "    zoom_range=0.2,\n",
    "    horizontal_flip=True,\n",
    "    fill_mode='nearest'\n",
    ")\n",
    "\n",
    "valgen = ImageDataGenerator()\n",
    "testgen = ImageDataGenerator()\n",
    "\n",
    "train_aug = datagen.flow(images_train, categories_train, batch_size=32)\n",
    "val_aug = valgen.flow(images_val, categories_val, batch_size=32)\n",
    "test_aug = testgen.flow(images_test, categories_test, batch_size=32, shuffle=False)\n",
    "\n",
    "# --- Cargar mejor modelo anterior ---\n",
    "model, _ = load_model_and_history(\"transfer_model\")\n",
    "\n",
    "# --- Compilar de nuevo ---\n",
    "model.compile(optimizer='adam', loss='sparse_categorical_crossentropy', metrics=['accuracy'])\n",
    "\n",
    "# --- Entrenar con datos aumentados ---\n",
    "early_stop = EarlyStopping(monitor='val_loss', patience=5, restore_best_weights=True)\n",
    "history = model.fit(\n",
    "    train_aug,\n",
    "    validation_data=val_aug,\n",
    "    epochs=30,\n",
    "    callbacks=[early_stop]\n",
    ")\n",
    "\n",
    "# --- Evaluar en test ---\n",
    "test_loss, test_acc = model.evaluate(test_aug)\n",
    "print(f\"\\nTest accuracy con aumento de datos: {test_acc:.4f}   |  Test Loss: {test_loss:.4f}\")\n",
    "\n",
    "# --- Guardar nuevo modelo ---\n",
    "save_model_and_history(model, history, model_path='transfer_model_augmented')"
   ]
  }
 ],
 "metadata": {
  "kernelspec": {
   "display_name": "Python 3 (ipykernel)",
   "language": "python",
   "name": "python3"
  },
  "language_info": {
   "codemirror_mode": {
    "name": "ipython",
    "version": 3
   },
   "file_extension": ".py",
   "mimetype": "text/x-python",
   "name": "python",
   "nbconvert_exporter": "python",
   "pygments_lexer": "ipython3",
   "version": "3.12.7"
  }
 },
 "nbformat": 4,
 "nbformat_minor": 5
}
