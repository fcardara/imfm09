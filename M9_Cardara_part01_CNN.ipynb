{
 "cells": [
  {
   "cell_type": "code",
   "execution_count": 2,
   "id": "9abb2e58-8096-4596-9f21-e04a16ea3802",
   "metadata": {},
   "outputs": [
    {
     "name": "stderr",
     "output_type": "stream",
     "text": [
      "2025-05-25 14:41:00.540461: I external/local_xla/xla/tsl/cuda/cudart_stub.cc:32] Could not find cuda drivers on your machine, GPU will not be used.\n",
      "2025-05-25 14:41:01.368987: I external/local_xla/xla/tsl/cuda/cudart_stub.cc:32] Could not find cuda drivers on your machine, GPU will not be used.\n",
      "2025-05-25 14:41:02.422594: E external/local_xla/xla/stream_executor/cuda/cuda_fft.cc:467] Unable to register cuFFT factory: Attempting to register factory for plugin cuFFT when one has already been registered\n",
      "WARNING: All log messages before absl::InitializeLog() is called are written to STDERR\n",
      "E0000 00:00:1748184063.105881   23348 cuda_dnn.cc:8579] Unable to register cuDNN factory: Attempting to register factory for plugin cuDNN when one has already been registered\n",
      "E0000 00:00:1748184063.286202   23348 cuda_blas.cc:1407] Unable to register cuBLAS factory: Attempting to register factory for plugin cuBLAS when one has already been registered\n",
      "W0000 00:00:1748184064.388689   23348 computation_placer.cc:177] computation placer already registered. Please check linkage and avoid linking the same target more than once.\n",
      "W0000 00:00:1748184064.388817   23348 computation_placer.cc:177] computation placer already registered. Please check linkage and avoid linking the same target more than once.\n",
      "W0000 00:00:1748184064.388824   23348 computation_placer.cc:177] computation placer already registered. Please check linkage and avoid linking the same target more than once.\n",
      "W0000 00:00:1748184064.388829   23348 computation_placer.cc:177] computation placer already registered. Please check linkage and avoid linking the same target more than once.\n",
      "2025-05-25 14:41:04.527567: I tensorflow/core/platform/cpu_feature_guard.cc:210] This TensorFlow binary is optimized to use available CPU instructions in performance-critical operations.\n",
      "To enable the following instructions: AVX2 FMA, in other operations, rebuild TensorFlow with the appropriate compiler flags.\n"
     ]
    }
   ],
   "source": [
    "try:\n",
    "    import tensorflow as tf\n",
    "except ImportError:\n",
    "    import sys\n",
    "    !{sys.executable} -m pip install tensorflow\n",
    "    import tensorflow as tf\n",
    "    \n",
    "import numpy as np\n",
    "from tensorflow.keras import layers, models\n",
    "from sklearn.model_selection import train_test_split\n",
    "import json\n",
    "import os"
   ]
  },
  {
   "cell_type": "code",
   "execution_count": null,
   "id": "d96c1e02-343f-4644-9e8f-087bc31df16c",
   "metadata": {},
   "outputs": [
    {
     "name": "stderr",
     "output_type": "stream",
     "text": [
      "2025-05-25 14:41:26.912295: E external/local_xla/xla/stream_executor/cuda/cuda_platform.cc:51] failed call to cuInit: INTERNAL: CUDA error: Failed call to cuInit: UNKNOWN ERROR (303)\n",
      "2025-05-25 14:42:55.392140: W external/local_xla/xla/tsl/framework/cpu_allocator_impl.cc:83] Allocation of 44859392 exceeds 10% of free system memory.\n",
      "2025-05-25 14:42:55.460263: W external/local_xla/xla/tsl/framework/cpu_allocator_impl.cc:83] Allocation of 44859392 exceeds 10% of free system memory.\n",
      "2025-05-25 14:42:55.488101: W external/local_xla/xla/tsl/framework/cpu_allocator_impl.cc:83] Allocation of 44859392 exceeds 10% of free system memory.\n"
     ]
    }
   ],
   "source": [
    "tf.config.set_visible_devices([], 'GPU')\n",
    "\n",
    "# 2. Cargar datos\n",
    "images = np.load('images.npy')\n",
    "categories = np.load('categories.npy')\n",
    "\n",
    "# 3. Dividir en train / temp (para luego val/test)\n",
    "X_train, X_temp, y_train, y_temp = train_test_split(images, categories, test_size=0.25, stratify=categories, random_state=42)\n",
    "\n",
    "# 4. Dividir temp en validación y test\n",
    "X_val, X_test, y_val, y_test = train_test_split(X_temp, y_temp, test_size=0.2, stratify=y_temp, random_state=42)\n",
    "# Resultado: 75% train, 20% val, 5% test\n",
    "\n",
    "# 5. One-hot encoding (porque usaremos categorical_crossentropy)\n",
    "num_classes = 6\n",
    "y_train_cat = tf.keras.utils.to_categorical(y_train, num_classes)\n",
    "y_val_cat = tf.keras.utils.to_categorical(y_val, num_classes)\n",
    "y_test_cat = tf.keras.utils.to_categorical(y_test, num_classes)\n",
    "\n",
    "# 6. Definir el modelo base CNN\n",
    "model = models.Sequential([\n",
    "    layers.Input(shape=(150, 150, 3)),\n",
    "    layers.Conv2D(32, (3, 3), activation='relu'),\n",
    "    layers.MaxPooling2D((2, 2)),\n",
    "\n",
    "    layers.Flatten(),\n",
    "    layers.Dense(64, activation='relu'),\n",
    "    layers.Dense(num_classes, activation='softmax')\n",
    "])\n",
    "\n",
    "model.compile(optimizer='adam',\n",
    "              loss='categorical_crossentropy',\n",
    "              metrics=['accuracy'])\n",
    "\n",
    "# 7. Entrenar con EarlyStopping\n",
    "early_stop = tf.keras.callbacks.EarlyStopping(monitor='val_loss', patience=5, restore_best_weights=True)\n",
    "\n",
    "history = model.fit(X_train, y_train_cat,\n",
    "                    epochs=30,\n",
    "                    batch_size=32,\n",
    "                    validation_data=(X_val, y_val_cat),\n",
    "                    callbacks=[early_stop])\n",
    "\n",
    "# 8. Guardar modelo .h5\n",
    "model.save(\"modelo_base_cnn.h5\")\n",
    "print(\"Modelo guardado como modelo_base_cnn.h5\")\n",
    "\n",
    "# 9. Guardar history en JSON\n",
    "history_dict = history.history\n",
    "with open(\"history_modelo_base.json\", \"w\") as f:\n",
    "    json.dump(history_dict, f)\n",
    "print(\"History guardado como history_modelo_base.json\")"
   ]
  },
  {
   "cell_type": "code",
   "execution_count": null,
   "id": "b8bbc107-4711-42c9-99f2-7f1a542432b5",
   "metadata": {},
   "outputs": [],
   "source": []
  }
 ],
 "metadata": {
  "kernelspec": {
   "display_name": "Python 3 (ipykernel)",
   "language": "python",
   "name": "python3"
  },
  "language_info": {
   "codemirror_mode": {
    "name": "ipython",
    "version": 3
   },
   "file_extension": ".py",
   "mimetype": "text/x-python",
   "name": "python",
   "nbconvert_exporter": "python",
   "pygments_lexer": "ipython3",
   "version": "3.12.7"
  }
 },
 "nbformat": 4,
 "nbformat_minor": 5
}
