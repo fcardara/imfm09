{
 "cells": [
  {
   "cell_type": "code",
   "execution_count": 1,
   "id": "10fbabd0-3ed3-4355-bc3e-b2d891325146",
   "metadata": {},
   "outputs": [
    {
     "name": "stderr",
     "output_type": "stream",
     "text": [
      "2025-05-30 16:34:36.871350: I external/local_xla/xla/tsl/cuda/cudart_stub.cc:32] Could not find cuda drivers on your machine, GPU will not be used.\n",
      "2025-05-30 16:34:36.893593: I external/local_xla/xla/tsl/cuda/cudart_stub.cc:32] Could not find cuda drivers on your machine, GPU will not be used.\n",
      "2025-05-30 16:34:36.937026: E external/local_xla/xla/stream_executor/cuda/cuda_fft.cc:467] Unable to register cuFFT factory: Attempting to register factory for plugin cuFFT when one has already been registered\n",
      "WARNING: All log messages before absl::InitializeLog() is called are written to STDERR\n",
      "E0000 00:00:1748622876.998730   19589 cuda_dnn.cc:8579] Unable to register cuDNN factory: Attempting to register factory for plugin cuDNN when one has already been registered\n",
      "E0000 00:00:1748622877.020940   19589 cuda_blas.cc:1407] Unable to register cuBLAS factory: Attempting to register factory for plugin cuBLAS when one has already been registered\n",
      "W0000 00:00:1748622877.075386   19589 computation_placer.cc:177] computation placer already registered. Please check linkage and avoid linking the same target more than once.\n",
      "W0000 00:00:1748622877.075449   19589 computation_placer.cc:177] computation placer already registered. Please check linkage and avoid linking the same target more than once.\n",
      "W0000 00:00:1748622877.075454   19589 computation_placer.cc:177] computation placer already registered. Please check linkage and avoid linking the same target more than once.\n",
      "W0000 00:00:1748622877.075459   19589 computation_placer.cc:177] computation placer already registered. Please check linkage and avoid linking the same target more than once.\n",
      "2025-05-30 16:34:37.094287: I tensorflow/core/platform/cpu_feature_guard.cc:210] This TensorFlow binary is optimized to use available CPU instructions in performance-critical operations.\n",
      "To enable the following instructions: AVX2 FMA, in other operations, rebuild TensorFlow with the appropriate compiler flags.\n"
     ]
    }
   ],
   "source": [
    "# --- 1. Imports ---\n",
    "import os\n",
    "import numpy as np\n",
    "import matplotlib.pyplot as plt\n",
    "from tensorflow.keras.models import load_model\n",
    "\n",
    "from utils.dataloader import load_data_npy"
   ]
  },
  {
   "cell_type": "code",
   "execution_count": null,
   "id": "4958d335-7973-4614-80f5-44cbb0456166",
   "metadata": {},
   "outputs": [],
   "source": [
    "class_names = ['Buildings', 'Forest', 'Glacier', 'Mountain', 'Sea', 'Street']\n",
    "images_train, categories_train, images_val, categories_val, images_test, categories_test = load_data_npy()"
   ]
  },
  {
   "cell_type": "code",
   "execution_count": null,
   "id": "bbb47314-a277-4359-bd99-e476b70746e2",
   "metadata": {},
   "outputs": [],
   "source": [
    "# --- 4. Listar modelos disponibles ---\n",
    "model_dir = 'models'\n",
    "models_h5 = [f for f in os.listdir(model_dir) if f.endswith('.h5')]\n",
    "\n",
    "print(\"Modelos disponibles:\")\n",
    "for i, name in enumerate(models_h5):\n",
    "    print(f\"[{i}] {name}\")\n",
    "\n",
    "model_index = int(input(\"\\nElige el número del modelo: \"))\n",
    "model_path = os.path.join(model_dir, models_h5[model_index])\n",
    "model = load_model(model_path)\n",
    "print(f\"\\nModelo cargado: {models_h5[model_index]}\")"
   ]
  },
  {
   "cell_type": "code",
   "execution_count": null,
   "id": "0c6fe750-3192-48b8-89c8-4ca89499b812",
   "metadata": {},
   "outputs": [],
   "source": [
    "img_index = int(input(f\"\\nElige índice de imagen (0 a {len(images_test)-1}): \"))\n",
    "image = images_test[img_index]\n",
    "true_label = categories_test[img_index]\n",
    "\n",
    "image_batch = np.expand_dims(image, axis=0)  # convertir a (1, 150, 150, 3)\n",
    "pred_probs = model.predict(image_batch)\n",
    "pred_label = np.argmax(pred_probs, axis=1)[0]\n",
    "\n",
    "plt.imshow(images_test[img_index])\n",
    "plt.axis('off')\n",
    "plt.title(f\"Predicción: {class_names[pred_label]}\\nEtiqueta real: {class_names[true_label]}\")\n",
    "plt.show()"
   ]
  }
 ],
 "metadata": {
  "kernelspec": {
   "display_name": "Python 3 (ipykernel)",
   "language": "python",
   "name": "python3"
  },
  "language_info": {
   "codemirror_mode": {
    "name": "ipython",
    "version": 3
   },
   "file_extension": ".py",
   "mimetype": "text/x-python",
   "name": "python",
   "nbconvert_exporter": "python",
   "pygments_lexer": "ipython3",
   "version": "3.12.7"
  }
 },
 "nbformat": 4,
 "nbformat_minor": 5
}
